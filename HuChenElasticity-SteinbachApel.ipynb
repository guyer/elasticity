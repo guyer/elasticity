{
 "cells": [
  {
   "cell_type": "markdown",
   "metadata": {},
   "source": [
    "Iterative FFT stress calculation method of\n",
    "\n",
    "> A PHASE-FIELD MODEL FOR EVOLVING MICROSTRUCTURES WITH STRONG ELASTIC INHOMOGENEITY  \n",
    "> S. Y. HU and L. Q. CHEN  \n",
    "> _Acta mater._ **49** (2001) 1879–1890\n",
    "\n",
    "applied to\n",
    "\n",
    "> Multi phase field model for solid state transformation with elastic strain  \n",
    "> I. Steinbach and M. Apel  \n",
    "> _Physica D_ **217** (2006) 153-160"
   ]
  },
  {
   "cell_type": "code",
   "execution_count": 1,
   "metadata": {
    "collapsed": true
   },
   "outputs": [],
   "source": [
    "%matplotlib inline"
   ]
  },
  {
   "cell_type": "code",
   "execution_count": 2,
   "metadata": {
    "collapsed": true
   },
   "outputs": [],
   "source": [
    "import fipy as fp"
   ]
  },
  {
   "cell_type": "code",
   "execution_count": 3,
   "metadata": {
    "collapsed": true
   },
   "outputs": [],
   "source": [
    "from fipy import numerix as nmx"
   ]
  },
  {
   "cell_type": "code",
   "execution_count": 4,
   "metadata": {
    "collapsed": true
   },
   "outputs": [],
   "source": [
    "from scipy import fftpack"
   ]
  },
  {
   "cell_type": "markdown",
   "metadata": {},
   "source": [
    "SA p. 157:\n",
    "> The calculations were performed in a cubic domain of $15 \\times 15 \\times 15 \\, \\mathrm{\\mu m}^3$"
   ]
  },
  {
   "cell_type": "code",
   "execution_count": 5,
   "metadata": {
    "collapsed": true
   },
   "outputs": [],
   "source": [
    "nx = 128"
   ]
  },
  {
   "cell_type": "code",
   "execution_count": 6,
   "metadata": {
    "collapsed": true
   },
   "outputs": [],
   "source": [
    "Lx = 15."
   ]
  },
  {
   "cell_type": "code",
   "execution_count": 7,
   "metadata": {},
   "outputs": [],
   "source": [
    "mesh = fp.Grid3D(nx=nx, ny=nx, nz=nx, Lx=Lx, Ly=Lx, Lz=Lx)"
   ]
  },
  {
   "cell_type": "code",
   "execution_count": 9,
   "metadata": {
    "collapsed": true
   },
   "outputs": [],
   "source": [
    "dX = fp.CellVariable(mesh=mesh, name=r\"$\\delta X$\")"
   ]
  },
  {
   "cell_type": "markdown",
   "metadata": {},
   "source": [
    "SA p. 157:\n",
    "> the particle radius is taken as $r_p = 1.4\\,\\mathrm{\\mu m}$"
   ]
  },
  {
   "cell_type": "code",
   "execution_count": 10,
   "metadata": {
    "collapsed": true
   },
   "outputs": [],
   "source": [
    "rp = 1.4"
   ]
  },
  {
   "cell_type": "code",
   "execution_count": 11,
   "metadata": {},
   "outputs": [],
   "source": [
    "dX.setValue(1., where=(mesh.x - Lx / 2.)**2 + (mesh.y - Lx / 2.)**2 + (mesh.z - Lx / 2.)**2 <= rp**2)"
   ]
  },
  {
   "cell_type": "markdown",
   "metadata": {},
   "source": [
    "## reciprocal lattice vector"
   ]
  },
  {
   "cell_type": "code",
   "execution_count": 31,
   "metadata": {
    "collapsed": true
   },
   "outputs": [],
   "source": [
    "g = fp.CellVariable(mesh=mesh, name=r\"$\\vec{g}$\", rank=1)"
   ]
  },
  {
   "cell_type": "markdown",
   "metadata": {},
   "source": [
    "**Note:** Can this be done with a view instead of reshaping twice?"
   ]
  },
  {
   "cell_type": "code",
   "execution_count": 32,
   "metadata": {},
   "outputs": [],
   "source": [
    "g.value.shape = (-1, g.mesh.nx, g.mesh.nx, g.mesh.nx)"
   ]
  },
  {
   "cell_type": "code",
   "execution_count": 33,
   "metadata": {
    "collapsed": true
   },
   "outputs": [],
   "source": [
    "g.value[0] = nmx.fft.fftfreq(n=mesh.nx, d=mesh.dx)"
   ]
  },
  {
   "cell_type": "code",
   "execution_count": 34,
   "metadata": {
    "collapsed": true
   },
   "outputs": [],
   "source": [
    "g.value[1] = nmx.fft.fftfreq(n=mesh.nx, d=mesh.dx)[..., nmx.newaxis]"
   ]
  },
  {
   "cell_type": "code",
   "execution_count": 35,
   "metadata": {
    "collapsed": true
   },
   "outputs": [],
   "source": [
    "g.value[2] = nmx.fft.fftfreq(n=mesh.nx, d=mesh.dx)[..., nmx.newaxis, nmx.newaxis]"
   ]
  },
  {
   "cell_type": "code",
   "execution_count": 36,
   "metadata": {
    "collapsed": true
   },
   "outputs": [],
   "source": [
    "g.value.shape = (-1, g.mesh.numberOfCells)"
   ]
  },
  {
   "cell_type": "markdown",
   "metadata": {},
   "source": [
    "## stiffness tensor"
   ]
  },
  {
   "cell_type": "markdown",
   "metadata": {},
   "source": [
    "SA p. 157 \"for isotropic elasticity data, equal in both phases\" and \"We use data in the range of those for low alloyed steel: $C_{11} = 280\\,\\mathrm{GPa}$, $C_{12} = 120\\,\\mathrm{GPa}$, corresponding to an elasticity modulus $E = 208\\,\\mathrm{GPa}$ and a Poisson ratio $\\nu = 0.3$.\""
   ]
  },
  {
   "cell_type": "code",
   "execution_count": 68,
   "metadata": {
    "collapsed": true
   },
   "outputs": [],
   "source": [
    "C11 = 280e9\n",
    "C12 = 120e9\n",
    "nu = 0.3\n",
    "C44 = (C11 - C12)/2."
   ]
  },
  {
   "cell_type": "code",
   "execution_count": 38,
   "metadata": {
    "collapsed": true
   },
   "outputs": [],
   "source": [
    "C = nmx.zeros((3, 3, 3, 3))"
   ]
  },
  {
   "cell_type": "markdown",
   "metadata": {},
   "source": [
    "For a cubic material:  \n",
    "$\\begin{align*}\n",
    "C_{11} = C_{22} = C_{33} &\\rightarrow C_{1111} = C_{2222} = C_{3333} \\\\\n",
    "C_{12} = C_{21} = C_{13} = C_{31} = C_{23} = C_{32} &\\rightarrow \n",
    "C_{1122} = C_{2211} = C_{1133} = C_{3311} = C_{2233} = C_{3322} \\\\\n",
    "C_{44} = C_{55} = C_{66} \n",
    "&\\rightarrow C_{2323} = C_{3232} = C_{2332} = C_{3223} \\\\\n",
    "&\\quad = C_{1313} = C_{3131} = C_{1331} = C_{3113} \\\\\n",
    "&\\quad = C_{1212} = C_{2121} = C_{1221} = C_{2112}\n",
    "\\end{align*}$\n",
    "\n",
    "All other $C_{ij} = 0$."
   ]
  },
  {
   "cell_type": "code",
   "execution_count": 39,
   "metadata": {
    "collapsed": true
   },
   "outputs": [],
   "source": [
    "C[0][0][0][0] = C[1][1][1][1] = C[2][2][2][2] = C11\n",
    "C[0][0][1][1] = C[1][1][0][0] = C[0][0][2][2] = C[2][2][0][0] = C[1][1][2][2] = C[2][2][1][1] = C12\n",
    "C[1][2][1][2] = C[2][1][2][1] = C[1][2][2][1] = C[2][1][1][2] = C44\n",
    "C[0][2][0][2] = C[2][0][2][0] = C[0][2][2][0] = C[2][0][0][2] = C44\n",
    "C[0][1][0][1] = C[1][0][1][0] = C[0][1][1][0] = C[1][0][0][1] = C44"
   ]
  },
  {
   "cell_type": "markdown",
   "metadata": {},
   "source": [
    "HC p 1881, below Eq. (11):  \n",
    "$(G^{-1}(\\vec{g}))_{ik} = g^2 \\lambda^\\circ_{ijkl} n_j n_l$\n",
    "\n",
    "Recasting in our notation:   \n",
    "$(G^{-1}(\\vec{g}))_{ik} = C^\\circ_{ijkl} g_j g_l$"
   ]
  },
  {
   "cell_type": "code",
   "execution_count": 40,
   "metadata": {},
   "outputs": [],
   "source": [
    "Gik_inv = nmx.einsum('ijkl,j...,l...->ik...', C, g.value, g.value)"
   ]
  },
  {
   "cell_type": "markdown",
   "metadata": {},
   "source": [
    "We can't invert the (zero) CW element, but we also don't care what it is"
   ]
  },
  {
   "cell_type": "code",
   "execution_count": 41,
   "metadata": {},
   "outputs": [],
   "source": [
    "Gik_inv[..., 0] = nmx.eye(3,3)"
   ]
  },
  {
   "cell_type": "markdown",
   "metadata": {},
   "source": [
    "(Slow) inversion of tensor field. Opportunity to use [Wheeler's Riemann utilities](https://github.com/usnistgov/fipy/blob/riemann/fipy/tools/smallMatrixVectorOps.py)?"
   ]
  },
  {
   "cell_type": "code",
   "execution_count": 42,
   "metadata": {},
   "outputs": [],
   "source": [
    "Gik = nmx.rollaxis(nmx.array(map(nmx.linalg.inv, nmx.rollaxis(Gik_inv, axis=2))), axis=0, start=3) "
   ]
  },
  {
   "cell_type": "code",
   "execution_count": 43,
   "metadata": {
    "collapsed": true
   },
   "outputs": [],
   "source": [
    "epsilon0 = 0.01"
   ]
  },
  {
   "cell_type": "code",
   "execution_count": 44,
   "metadata": {},
   "outputs": [],
   "source": [
    "eigenstrain = epsilon0 * nmx.eye(3,3)"
   ]
  },
  {
   "cell_type": "code",
   "execution_count": 2,
   "metadata": {},
   "outputs": [
    {
     "ename": "NameError",
     "evalue": "name 'nmx' is not defined",
     "output_type": "error",
     "traceback": [
      "\u001b[0;31m---------------------------------------------------------------------------\u001b[0m",
      "\u001b[0;31mNameError\u001b[0m                                 Traceback (most recent call last)",
      "\u001b[0;32m<ipython-input-2-856f542847b9>\u001b[0m in \u001b[0;36m<module>\u001b[0;34m()\u001b[0m\n\u001b[0;32m----> 1\u001b[0;31m \u001b[0meigenstress\u001b[0m \u001b[0;34m=\u001b[0m \u001b[0mnmx\u001b[0m\u001b[0;34m.\u001b[0m\u001b[0meinsum\u001b[0m\u001b[0;34m(\u001b[0m\u001b[0;34m'ijkl...,kl...->ij...'\u001b[0m\u001b[0;34m,\u001b[0m \u001b[0mC\u001b[0m\u001b[0;34m,\u001b[0m \u001b[0meigenstrain\u001b[0m\u001b[0;34m)\u001b[0m\u001b[0;34m\u001b[0m\u001b[0m\n\u001b[0m",
      "\u001b[0;31mNameError\u001b[0m: name 'nmx' is not defined"
     ]
    }
   ],
   "source": [
    "eigenstress = nmx.einsum('ijkl...,kl...->ij...', C, eigenstrain)"
   ]
  },
  {
   "cell_type": "markdown",
   "metadata": {},
   "source": [
    "HC p. 1881 below Eq. (11):\n",
    "> $\\nu^0_k(\\vec{g})$ and $\\delta X(\\vec{g})$ are Fourier transforms of $u^0_k(\\vec{r})$ and $\\delta X(\\vec{r})$, respectively\n",
    "\n",
    "(**Note:** every other symbol remains the same and simply changes its argument from $\\vec{r}$ to $\\vec{g}$ when it Fourier transforms, but displacment magically mutates from $u$ to $\\nu$?"
   ]
  },
  {
   "cell_type": "code",
   "execution_count": 46,
   "metadata": {
    "collapsed": true
   },
   "outputs": [],
   "source": [
    "dXg = fftpack.fftn(dX.value.reshape((nx, nx, nx))).reshape(-1)"
   ]
  },
  {
   "cell_type": "markdown",
   "metadata": {},
   "source": [
    "HC p. 1881, Eq. (11):  \n",
    "> $\\nu^0_k(\\vec{g}) = -i G_{ik}(\\vec{g}) g_j \\sigma^\\circ_{ij} \\delta X(\\vec{g})$"
   ]
  },
  {
   "cell_type": "code",
   "execution_count": 47,
   "metadata": {},
   "outputs": [],
   "source": [
    "ug = -1j * nmx.einsum('ik...,j...,ij...->k...', Gik, g, eigenstress) * dXg"
   ]
  },
  {
   "cell_type": "markdown",
   "metadata": {},
   "source": [
    "HC p. 1882, Eq. (18):\n",
    "> $\\delta \\epsilon_{ij}(\\vec{r}) \n",
    "= \\frac{1}{(2\\pi)^3}\\int \\frac{i}{2}\\left[\\nu_i(\\vec{g})g_j + \\nu_j(\\vec{g})g_i\\right]\n",
    "e^{i\\vec{g}\\cdot\\vec{r}}\\,d^3\\vec{g}$"
   ]
  },
  {
   "cell_type": "code",
   "execution_count": 48,
   "metadata": {},
   "outputs": [],
   "source": [
    "straing = 0.5j * (nmx.einsum('i...,j...->ij...', ug, g) + nmx.einsum('j...,i...->ij...', ug, g))"
   ]
  },
  {
   "cell_type": "code",
   "execution_count": 51,
   "metadata": {},
   "outputs": [],
   "source": [
    "strain = fftpack.ifftn(straing.reshape((3, 3, nx,nx,nx)), axes=(2,3,4)).reshape((3, 3, -1))"
   ]
  },
  {
   "cell_type": "markdown",
   "metadata": {},
   "source": [
    "p. 1881, Eq. (4):  \n",
    "> $\\sigma^\\mathrm{el}_{ij}(\\vec{r}) \n",
    "= \\left[\\lambda^\\circ_{ijkl} + \\lambda'_{ijkl}\\delta X(\\vec{r})\\right]\n",
    "\\left[\\epsilon_{kl}(\\vec{r}) - \\epsilon^\\circ_{kl}(\\vec{r})\\right]$\n",
    "\n",
    "Neglecting the inhomogenous elastic constants and converting to our notation:\n",
    "\n",
    "$\\sigma^\\mathrm{el}_{ij}(\\vec{r}) \n",
    "= C^\\circ_{ijkl}\n",
    "\\left[\\epsilon_{kl}(\\vec{r}) - \\epsilon^\\circ_{kl} \\delta X(\\vec{r})\\right]$\n"
   ]
  },
  {
   "cell_type": "code",
   "execution_count": 52,
   "metadata": {},
   "outputs": [],
   "source": [
    "stress = nmx.einsum('ijkl...,kl...->ij...', C, strain - eigenstrain[..., nmx.newaxis] * dX.value)"
   ]
  },
  {
   "cell_type": "markdown",
   "metadata": {},
   "source": [
    "## Comparison to analytical values"
   ]
  },
  {
   "cell_type": "code",
   "execution_count": 54,
   "metadata": {},
   "outputs": [],
   "source": [
    "halfx = mesh.x[nx//2]"
   ]
  },
  {
   "cell_type": "code",
   "execution_count": 55,
   "metadata": {
    "collapsed": true
   },
   "outputs": [],
   "source": [
    "mask = ((mesh.y == halfx) & (mesh.z == halfx)).value"
   ]
  },
  {
   "cell_type": "code",
   "execution_count": 62,
   "metadata": {
    "collapsed": true
   },
   "outputs": [],
   "source": [
    "x = mesh.x[mask].value"
   ]
  },
  {
   "cell_type": "code",
   "execution_count": 57,
   "metadata": {},
   "outputs": [],
   "source": [
    "sigma11 = stress[0][0][mask].real"
   ]
  },
  {
   "cell_type": "code",
   "execution_count": 58,
   "metadata": {
    "collapsed": true
   },
   "outputs": [],
   "source": [
    "sigma33 = stress[2][2][mask].real"
   ]
  },
  {
   "cell_type": "markdown",
   "metadata": {},
   "source": [
    "### Eschelby solutions"
   ]
  },
  {
   "cell_type": "markdown",
   "metadata": {},
   "source": [
    "SA Eq. (32):  \n",
    "$\\sigma_0 = \\frac{2}{3}(C_{11} + C_{12})\\frac{1-2\\nu}{1-\\nu}\\epsilon^*$"
   ]
  },
  {
   "cell_type": "code",
   "execution_count": 69,
   "metadata": {
    "collapsed": true
   },
   "outputs": [],
   "source": [
    "sigma0 = (2./3) * (C11 + 2 * C12) * (1 - 2*nu) / (1 - nu) * epsilon0"
   ]
  },
  {
   "cell_type": "code",
   "execution_count": 71,
   "metadata": {},
   "outputs": [],
   "source": [
    "sigma11esch = -sigma0 * (((x - Lx/2.)**2 <= rp**2) + (rp / abs(x - Lx/2.))**3 * ((x - Lx/2.)**2 > rp**2))"
   ]
  },
  {
   "cell_type": "code",
   "execution_count": 73,
   "metadata": {},
   "outputs": [],
   "source": [
    "sigma33esch = -sigma0 * (((x - Lx/2.)**2 <= rp**2) - (1./2) * (rp / abs(x - Lx/2.))**3 * ((x - Lx/2.)**2 > rp**2))"
   ]
  },
  {
   "cell_type": "markdown",
   "metadata": {},
   "source": [
    "### Visualization"
   ]
  },
  {
   "cell_type": "code",
   "execution_count": 53,
   "metadata": {
    "collapsed": true
   },
   "outputs": [],
   "source": [
    "from matplotlib import pyplot as plt"
   ]
  },
  {
   "cell_type": "code",
   "execution_count": 74,
   "metadata": {},
   "outputs": [
    {
     "data": {
      "text/plain": [
       "<matplotlib.legend.Legend at 0x137e9e510>"
      ]
     },
     "execution_count": 74,
     "metadata": {},
     "output_type": "execute_result"
    },
    {
     "data": {
      "image/png": "[encoded data removed]",
      "text/plain": [
       "<matplotlib.figure.Figure at 0x10e1e33d0>"
      ]
     },
     "metadata": {},
     "output_type": "display_data"
    }
   ],
   "source": [
    "s11, = plt.plot(x, sigma11, 'r-', label=r\"$\\sigma_{11}$\")\n",
    "s33, = plt.plot(x, sigma33, 'b-', label=r\"$\\sigma_{33}$\")\n",
    "s11esch, = plt.plot(x, sigma11esch, 'r.', label=r\"$\\sigma_{11}^\\mathrm{esch}$\")\n",
    "s33esch, = plt.plot(x, sigma33esch, 'b.', label=r\"$\\sigma_{33}^\\mathrm{esch}$\")\n",
    "plt.legend(handles=[s11, s33, s11esch, s33esch])"
   ]
  },
  {
   "cell_type": "code",
   "execution_count": null,
   "metadata": {
    "collapsed": true
   },
   "outputs": [],
   "source": []
  }
 ],
 "metadata": {
  "kernelspec": {
   "display_name": "Python 2",
   "language": "python",
   "name": "python2"
  },
  "language_info": {
   "codemirror_mode": {
    "name": "ipython",
    "version": 2
   },
   "file_extension": ".py",
   "mimetype": "text/x-python",
   "name": "python",
   "nbconvert_exporter": "python",
   "pygments_lexer": "ipython2",
   "version": "2.7.15"
  }
 },
 "nbformat": 4,
 "nbformat_minor": 1
}
